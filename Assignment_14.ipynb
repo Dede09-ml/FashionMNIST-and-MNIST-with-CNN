{
  "nbformat": 4,
  "nbformat_minor": 0,
  "metadata": {
    "colab": {
      "name": "Assignment 14.ipynb",
      "provenance": [],
      "collapsed_sections": [],
      "toc_visible": true
    },
    "kernelspec": {
      "name": "python3",
      "display_name": "Python 3"
    },
    "accelerator": "GPU"
  },
  "cells": [
    {
      "cell_type": "markdown",
      "metadata": {
        "id": "Ra-Gve-Xg6er"
      },
      "source": [
        "# FASHION MNIST"
      ]
    },
    {
      "cell_type": "code",
      "metadata": {
        "id": "vVlZYHGfIVwo"
      },
      "source": [
        "from tensorflow.keras.datasets import fashion_mnist\n",
        "from matplotlib import pyplot as plt"
      ],
      "execution_count": 2,
      "outputs": []
    },
    {
      "cell_type": "code",
      "metadata": {
        "id": "xunpaTdwI6xS",
        "outputId": "e4e77d9d-f063-496d-d267-ccc777f32493",
        "colab": {
          "base_uri": "https://localhost:8080/",
          "height": 443
        }
      },
      "source": [
        "(feature_train, label_train), (feature_test, label_test) = fashion_mnist.load_data()\n",
        "\n",
        "print(\"Train\", feature_train.shape, label_train.shape)\n",
        "print(\"Test\", feature_test.shape, label_test.shape)\n",
        "\n",
        "plt.imshow(feature_train[90], cmap=plt.get_cmap('gray'))"
      ],
      "execution_count": 3,
      "outputs": [
        {
          "output_type": "stream",
          "text": [
            "Downloading data from https://storage.googleapis.com/tensorflow/tf-keras-datasets/train-labels-idx1-ubyte.gz\n",
            "32768/29515 [=================================] - 0s 0us/step\n",
            "Downloading data from https://storage.googleapis.com/tensorflow/tf-keras-datasets/train-images-idx3-ubyte.gz\n",
            "26427392/26421880 [==============================] - 0s 0us/step\n",
            "Downloading data from https://storage.googleapis.com/tensorflow/tf-keras-datasets/t10k-labels-idx1-ubyte.gz\n",
            "8192/5148 [===============================================] - 0s 0us/step\n",
            "Downloading data from https://storage.googleapis.com/tensorflow/tf-keras-datasets/t10k-images-idx3-ubyte.gz\n",
            "4423680/4422102 [==============================] - 0s 0us/step\n",
            "Train (60000, 28, 28) (60000,)\n",
            "Test (10000, 28, 28) (10000,)\n"
          ],
          "name": "stdout"
        },
        {
          "output_type": "execute_result",
          "data": {
            "text/plain": [
              "<matplotlib.image.AxesImage at 0x7fab5a5f1b38>"
            ]
          },
          "metadata": {
            "tags": []
          },
          "execution_count": 3
        },
        {
          "output_type": "display_data",
          "data": {
            "image/png": "[encoded data removed]",
            "text/plain": [
              "<Figure size 432x288 with 1 Axes>"
            ]
          },
          "metadata": {
            "tags": [],
            "needs_background": "light"
          }
        }
      ]
    },
    {
      "cell_type": "markdown",
      "metadata": {
        "id": "6yJPAzk8J26v"
      },
      "source": [
        "Feature Engineering"
      ]
    },
    {
      "cell_type": "code",
      "metadata": {
        "id": "ykiNrKUAJ5WN"
      },
      "source": [
        "feature_train = feature_train.reshape((feature_train.shape[0], 28, 28, 1))\n",
        "feature_test = feature_test.reshape((feature_test.shape[0], 28, 28, 1))\n"
      ],
      "execution_count": 4,
      "outputs": []
    },
    {
      "cell_type": "code",
      "metadata": {
        "id": "5ifv-eXIKgqn",
        "outputId": "f1f1d24c-0be0-41b7-c495-e187aa172860",
        "colab": {
          "base_uri": "https://localhost:8080/",
          "height": 33
        }
      },
      "source": [
        "print(feature_train.shape)"
      ],
      "execution_count": 5,
      "outputs": [
        {
          "output_type": "stream",
          "text": [
            "(60000, 28, 28, 1)\n"
          ],
          "name": "stdout"
        }
      ]
    },
    {
      "cell_type": "code",
      "metadata": {
        "id": "DInNskpkKr6-",
        "outputId": "e5685f7f-5aac-4cad-ea4b-04d636e5c424",
        "colab": {
          "base_uri": "https://localhost:8080/",
          "height": 131
        }
      },
      "source": [
        "from tensorflow.keras.utils import to_categorical\n",
        "label_train = to_categorical(label_train)\n",
        "label_test = to_categorical(label_test)\n",
        "\n",
        "print(label_train)"
      ],
      "execution_count": 6,
      "outputs": [
        {
          "output_type": "stream",
          "text": [
            "[[0. 0. 0. ... 0. 0. 1.]\n",
            " [1. 0. 0. ... 0. 0. 0.]\n",
            " [1. 0. 0. ... 0. 0. 0.]\n",
            " ...\n",
            " [0. 0. 0. ... 0. 0. 0.]\n",
            " [1. 0. 0. ... 0. 0. 0.]\n",
            " [0. 0. 0. ... 0. 0. 0.]]\n"
          ],
          "name": "stdout"
        }
      ]
    },
    {
      "cell_type": "code",
      "metadata": {
        "id": "sNvP2RFqK_O5"
      },
      "source": [
        "feature_train = feature_train.astype(\"float32\")\n",
        "feature_test = feature_test.astype(\"float32\")\n",
        "\n",
        "feature_train = feature_train / 255.0\n",
        "feature_test = feature_test / 255.0"
      ],
      "execution_count": 7,
      "outputs": []
    },
    {
      "cell_type": "code",
      "metadata": {
        "id": "YwMrrEOwLnix"
      },
      "source": [
        "from tensorflow.keras.models import Sequential\n",
        "from tensorflow.keras.layers import Conv2D\n",
        "from tensorflow.keras.layers import MaxPooling2D\n",
        "from tensorflow.keras.layers import Dense\n",
        "from tensorflow.keras.layers import Flatten\n",
        "from tensorflow.keras.optimizers import SGD"
      ],
      "execution_count": 8,
      "outputs": []
    },
    {
      "cell_type": "markdown",
      "metadata": {
        "id": "us-8mafWYSFA"
      },
      "source": [
        "NEURAL NETWORK"
      ]
    },
    {
      "cell_type": "code",
      "metadata": {
        "id": "GW2DeuYSLzrv",
        "outputId": "ae823ebc-9f82-40f3-855a-50b0bbfab098",
        "colab": {
          "base_uri": "https://localhost:8080/",
          "height": 895
        }
      },
      "source": [
        "base_model = Sequential()\n",
        "\n",
        "base_model.add(Flatten(input_shape = (28, 28, 1)))\n",
        "base_model.add(Dense(128, activation='relu', kernel_initializer='he_uniform'))\n",
        "base_model.add(Dense(10, activation='softmax'))\n",
        "\n",
        "opt = SGD(lr=0.01, momentum=0.9)\n",
        "base_model.compile(optimizer=opt, loss='categorical_crossentropy', metrics=['accuracy'])\n",
        "\n",
        "base_model.summary()\n",
        "history = base_model.fit(feature_train, label_train, batch_size=32, validation_data=(feature_test, label_test), epochs=20)"
      ],
      "execution_count": 9,
      "outputs": [
        {
          "output_type": "stream",
          "text": [
            "Model: \"sequential\"\n",
            "_________________________________________________________________\n",
            "Layer (type)                 Output Shape              Param #   \n",
            "=================================================================\n",
            "flatten (Flatten)            (None, 784)               0         \n",
            "_________________________________________________________________\n",
            "dense (Dense)                (None, 128)               100480    \n",
            "_________________________________________________________________\n",
            "dense_1 (Dense)              (None, 10)                1290      \n",
            "=================================================================\n",
            "Total params: 101,770\n",
            "Trainable params: 101,770\n",
            "Non-trainable params: 0\n",
            "_________________________________________________________________\n",
            "Epoch 1/20\n",
            "1875/1875 [==============================] - 4s 2ms/step - loss: 0.5285 - accuracy: 0.8129 - val_loss: 0.4594 - val_accuracy: 0.8344\n",
            "Epoch 2/20\n",
            "1875/1875 [==============================] - 4s 2ms/step - loss: 0.3963 - accuracy: 0.8565 - val_loss: 0.4006 - val_accuracy: 0.8568\n",
            "Epoch 3/20\n",
            "1875/1875 [==============================] - 4s 2ms/step - loss: 0.3594 - accuracy: 0.8691 - val_loss: 0.4094 - val_accuracy: 0.8565\n",
            "Epoch 4/20\n",
            "1875/1875 [==============================] - 4s 2ms/step - loss: 0.3366 - accuracy: 0.8773 - val_loss: 0.4112 - val_accuracy: 0.8468\n",
            "Epoch 5/20\n",
            "1875/1875 [==============================] - 4s 2ms/step - loss: 0.3170 - accuracy: 0.8845 - val_loss: 0.3487 - val_accuracy: 0.8750\n",
            "Epoch 6/20\n",
            "1875/1875 [==============================] - 4s 2ms/step - loss: 0.3044 - accuracy: 0.8885 - val_loss: 0.3728 - val_accuracy: 0.8709\n",
            "Epoch 7/20\n",
            "1875/1875 [==============================] - 4s 2ms/step - loss: 0.2920 - accuracy: 0.8929 - val_loss: 0.3558 - val_accuracy: 0.8719\n",
            "Epoch 8/20\n",
            "1875/1875 [==============================] - 4s 2ms/step - loss: 0.2822 - accuracy: 0.8965 - val_loss: 0.3468 - val_accuracy: 0.8793\n",
            "Epoch 9/20\n",
            "1875/1875 [==============================] - 4s 2ms/step - loss: 0.2741 - accuracy: 0.8991 - val_loss: 0.3786 - val_accuracy: 0.8628\n",
            "Epoch 10/20\n",
            "1875/1875 [==============================] - 4s 2ms/step - loss: 0.2652 - accuracy: 0.9021 - val_loss: 0.3394 - val_accuracy: 0.8803\n",
            "Epoch 11/20\n",
            "1875/1875 [==============================] - 4s 2ms/step - loss: 0.2575 - accuracy: 0.9041 - val_loss: 0.3565 - val_accuracy: 0.8742\n",
            "Epoch 12/20\n",
            "1875/1875 [==============================] - 4s 2ms/step - loss: 0.2500 - accuracy: 0.9075 - val_loss: 0.3453 - val_accuracy: 0.8840\n",
            "Epoch 13/20\n",
            "1875/1875 [==============================] - 4s 2ms/step - loss: 0.2435 - accuracy: 0.9099 - val_loss: 0.3461 - val_accuracy: 0.8794\n",
            "Epoch 14/20\n",
            "1875/1875 [==============================] - 4s 2ms/step - loss: 0.2378 - accuracy: 0.9113 - val_loss: 0.3504 - val_accuracy: 0.8753\n",
            "Epoch 15/20\n",
            "1875/1875 [==============================] - 4s 2ms/step - loss: 0.2318 - accuracy: 0.9147 - val_loss: 0.3250 - val_accuracy: 0.8858\n",
            "Epoch 16/20\n",
            "1875/1875 [==============================] - 4s 2ms/step - loss: 0.2270 - accuracy: 0.9162 - val_loss: 0.3441 - val_accuracy: 0.8834\n",
            "Epoch 17/20\n",
            "1875/1875 [==============================] - 4s 2ms/step - loss: 0.2238 - accuracy: 0.9172 - val_loss: 0.3459 - val_accuracy: 0.8797\n",
            "Epoch 18/20\n",
            "1875/1875 [==============================] - 4s 2ms/step - loss: 0.2171 - accuracy: 0.9190 - val_loss: 0.3610 - val_accuracy: 0.8767\n",
            "Epoch 19/20\n",
            "1875/1875 [==============================] - 4s 2ms/step - loss: 0.2126 - accuracy: 0.9204 - val_loss: 0.3588 - val_accuracy: 0.8777\n",
            "Epoch 20/20\n",
            "1875/1875 [==============================] - 4s 2ms/step - loss: 0.2094 - accuracy: 0.9224 - val_loss: 0.3286 - val_accuracy: 0.8867\n"
          ],
          "name": "stdout"
        }
      ]
    },
    {
      "cell_type": "code",
      "metadata": {
        "id": "2Gj0h9bpUdEC"
      },
      "source": [
        "def plot_loss(history):\n",
        "  plt.plot(history.history['loss'], label='loss')\n",
        "  plt.plot(history.history['val_loss'], label='val_loss')\n",
        "  plt.xlabel('epoch')\n",
        "  plt.ylabel('loss')\n",
        "  plt.legend()\n",
        "  plt.grid(True)"
      ],
      "execution_count": 10,
      "outputs": []
    },
    {
      "cell_type": "code",
      "metadata": {
        "id": "E4UfFiDQWKjf",
        "outputId": "9082926f-fcd4-41b2-e10d-4e309dd2b9ff",
        "colab": {
          "base_uri": "https://localhost:8080/",
          "height": 622
        }
      },
      "source": [
        "import pandas as pd\n",
        "\n",
        "history_dataframe = pd.DataFrame(history.history)\n",
        "history_dataframe['epoch'] = history.epoch\n",
        "history_dataframe"
      ],
      "execution_count": 11,
      "outputs": [
        {
          "output_type": "execute_result",
          "data": {
            "text/html": [
              "<div>\n",
              "<style scoped>\n",
              "    .dataframe tbody tr th:only-of-type {\n",
              "        vertical-align: middle;\n",
              "    }\n",
              "\n",
              "    .dataframe tbody tr th {\n",
              "        vertical-align: top;\n",
              "    }\n",
              "\n",
              "    .dataframe thead th {\n",
              "        text-align: right;\n",
              "    }\n",
              "</style>\n",
              "<table border=\"1\" class=\"dataframe\">\n",
              "  <thead>\n",
              "    <tr style=\"text-align: right;\">\n",
              "      <th></th>\n",
              "      <th>loss</th>\n",
              "      <th>accuracy</th>\n",
              "      <th>val_loss</th>\n",
              "      <th>val_accuracy</th>\n",
              "      <th>epoch</th>\n",
              "    </tr>\n",
              "  </thead>\n",
              "  <tbody>\n",
              "    <tr>\n",
              "      <th>0</th>\n",
              "      <td>0.528461</td>\n",
              "      <td>0.812900</td>\n",
              "      <td>0.459419</td>\n",
              "      <td>0.8344</td>\n",
              "      <td>0</td>\n",
              "    </tr>\n",
              "    <tr>\n",
              "      <th>1</th>\n",
              "      <td>0.396263</td>\n",
              "      <td>0.856550</td>\n",
              "      <td>0.400643</td>\n",
              "      <td>0.8568</td>\n",
              "      <td>1</td>\n",
              "    </tr>\n",
              "    <tr>\n",
              "      <th>2</th>\n",
              "      <td>0.359412</td>\n",
              "      <td>0.869133</td>\n",
              "      <td>0.409379</td>\n",
              "      <td>0.8565</td>\n",
              "      <td>2</td>\n",
              "    </tr>\n",
              "    <tr>\n",
              "      <th>3</th>\n",
              "      <td>0.336556</td>\n",
              "      <td>0.877250</td>\n",
              "      <td>0.411224</td>\n",
              "      <td>0.8468</td>\n",
              "      <td>3</td>\n",
              "    </tr>\n",
              "    <tr>\n",
              "      <th>4</th>\n",
              "      <td>0.317035</td>\n",
              "      <td>0.884550</td>\n",
              "      <td>0.348657</td>\n",
              "      <td>0.8750</td>\n",
              "      <td>4</td>\n",
              "    </tr>\n",
              "    <tr>\n",
              "      <th>5</th>\n",
              "      <td>0.304361</td>\n",
              "      <td>0.888533</td>\n",
              "      <td>0.372840</td>\n",
              "      <td>0.8709</td>\n",
              "      <td>5</td>\n",
              "    </tr>\n",
              "    <tr>\n",
              "      <th>6</th>\n",
              "      <td>0.292045</td>\n",
              "      <td>0.892950</td>\n",
              "      <td>0.355779</td>\n",
              "      <td>0.8719</td>\n",
              "      <td>6</td>\n",
              "    </tr>\n",
              "    <tr>\n",
              "      <th>7</th>\n",
              "      <td>0.282240</td>\n",
              "      <td>0.896517</td>\n",
              "      <td>0.346825</td>\n",
              "      <td>0.8793</td>\n",
              "      <td>7</td>\n",
              "    </tr>\n",
              "    <tr>\n",
              "      <th>8</th>\n",
              "      <td>0.274052</td>\n",
              "      <td>0.899083</td>\n",
              "      <td>0.378573</td>\n",
              "      <td>0.8628</td>\n",
              "      <td>8</td>\n",
              "    </tr>\n",
              "    <tr>\n",
              "      <th>9</th>\n",
              "      <td>0.265221</td>\n",
              "      <td>0.902050</td>\n",
              "      <td>0.339440</td>\n",
              "      <td>0.8803</td>\n",
              "      <td>9</td>\n",
              "    </tr>\n",
              "    <tr>\n",
              "      <th>10</th>\n",
              "      <td>0.257463</td>\n",
              "      <td>0.904083</td>\n",
              "      <td>0.356463</td>\n",
              "      <td>0.8742</td>\n",
              "      <td>10</td>\n",
              "    </tr>\n",
              "    <tr>\n",
              "      <th>11</th>\n",
              "      <td>0.250009</td>\n",
              "      <td>0.907467</td>\n",
              "      <td>0.345276</td>\n",
              "      <td>0.8840</td>\n",
              "      <td>11</td>\n",
              "    </tr>\n",
              "    <tr>\n",
              "      <th>12</th>\n",
              "      <td>0.243497</td>\n",
              "      <td>0.909933</td>\n",
              "      <td>0.346146</td>\n",
              "      <td>0.8794</td>\n",
              "      <td>12</td>\n",
              "    </tr>\n",
              "    <tr>\n",
              "      <th>13</th>\n",
              "      <td>0.237798</td>\n",
              "      <td>0.911300</td>\n",
              "      <td>0.350397</td>\n",
              "      <td>0.8753</td>\n",
              "      <td>13</td>\n",
              "    </tr>\n",
              "    <tr>\n",
              "      <th>14</th>\n",
              "      <td>0.231817</td>\n",
              "      <td>0.914717</td>\n",
              "      <td>0.324983</td>\n",
              "      <td>0.8858</td>\n",
              "      <td>14</td>\n",
              "    </tr>\n",
              "    <tr>\n",
              "      <th>15</th>\n",
              "      <td>0.226966</td>\n",
              "      <td>0.916167</td>\n",
              "      <td>0.344092</td>\n",
              "      <td>0.8834</td>\n",
              "      <td>15</td>\n",
              "    </tr>\n",
              "    <tr>\n",
              "      <th>16</th>\n",
              "      <td>0.223801</td>\n",
              "      <td>0.917167</td>\n",
              "      <td>0.345917</td>\n",
              "      <td>0.8797</td>\n",
              "      <td>16</td>\n",
              "    </tr>\n",
              "    <tr>\n",
              "      <th>17</th>\n",
              "      <td>0.217087</td>\n",
              "      <td>0.918983</td>\n",
              "      <td>0.361033</td>\n",
              "      <td>0.8767</td>\n",
              "      <td>17</td>\n",
              "    </tr>\n",
              "    <tr>\n",
              "      <th>18</th>\n",
              "      <td>0.212571</td>\n",
              "      <td>0.920433</td>\n",
              "      <td>0.358805</td>\n",
              "      <td>0.8777</td>\n",
              "      <td>18</td>\n",
              "    </tr>\n",
              "    <tr>\n",
              "      <th>19</th>\n",
              "      <td>0.209353</td>\n",
              "      <td>0.922383</td>\n",
              "      <td>0.328640</td>\n",
              "      <td>0.8867</td>\n",
              "      <td>19</td>\n",
              "    </tr>\n",
              "  </tbody>\n",
              "</table>\n",
              "</div>"
            ],
            "text/plain": [
              "        loss  accuracy  val_loss  val_accuracy  epoch\n",
              "0   0.528461  0.812900  0.459419        0.8344      0\n",
              "1   0.396263  0.856550  0.400643        0.8568      1\n",
              "2   0.359412  0.869133  0.409379        0.8565      2\n",
              "3   0.336556  0.877250  0.411224        0.8468      3\n",
              "4   0.317035  0.884550  0.348657        0.8750      4\n",
              "5   0.304361  0.888533  0.372840        0.8709      5\n",
              "6   0.292045  0.892950  0.355779        0.8719      6\n",
              "7   0.282240  0.896517  0.346825        0.8793      7\n",
              "8   0.274052  0.899083  0.378573        0.8628      8\n",
              "9   0.265221  0.902050  0.339440        0.8803      9\n",
              "10  0.257463  0.904083  0.356463        0.8742     10\n",
              "11  0.250009  0.907467  0.345276        0.8840     11\n",
              "12  0.243497  0.909933  0.346146        0.8794     12\n",
              "13  0.237798  0.911300  0.350397        0.8753     13\n",
              "14  0.231817  0.914717  0.324983        0.8858     14\n",
              "15  0.226966  0.916167  0.344092        0.8834     15\n",
              "16  0.223801  0.917167  0.345917        0.8797     16\n",
              "17  0.217087  0.918983  0.361033        0.8767     17\n",
              "18  0.212571  0.920433  0.358805        0.8777     18\n",
              "19  0.209353  0.922383  0.328640        0.8867     19"
            ]
          },
          "metadata": {
            "tags": []
          },
          "execution_count": 11
        }
      ]
    },
    {
      "cell_type": "code",
      "metadata": {
        "id": "ZIc9wCmdYN53",
        "outputId": "9f35f9c3-9715-40c2-a5f2-4ae33a813eb8",
        "colab": {
          "base_uri": "https://localhost:8080/",
          "height": 278
        }
      },
      "source": [
        "plot_loss(history)"
      ],
      "execution_count": 12,
      "outputs": [
        {
          "output_type": "display_data",
          "data": {
            "image/png": "[encoded data removed]",
            "text/plain": [
              "<Figure size 432x288 with 1 Axes>"
            ]
          },
          "metadata": {
            "tags": [],
            "needs_background": "light"
          }
        }
      ]
    },
    {
      "cell_type": "code",
      "metadata": {
        "id": "k4KIVy7aafYo",
        "outputId": "6eb00ac5-244f-4d1e-aa72-e4fe46e7f4e3",
        "colab": {
          "base_uri": "https://localhost:8080/",
          "height": 66
        }
      },
      "source": [
        "loss, accuracy = base_model.evaluate(feature_test, label_test, verbose=2)\n",
        "\n",
        "print(\"Test accuracy: \", accuracy)\n",
        "print(\"Loss: \", loss)\n"
      ],
      "execution_count": 13,
      "outputs": [
        {
          "output_type": "stream",
          "text": [
            "313/313 - 1s - loss: 0.3286 - accuracy: 0.8867\n",
            "Test accuracy:  0.8866999745368958\n",
            "Loss:  0.328639954328537\n"
          ],
          "name": "stdout"
        }
      ]
    },
    {
      "cell_type": "markdown",
      "metadata": {
        "id": "-LgT1gNbadV3"
      },
      "source": [
        "Convolutional Neural Network"
      ]
    },
    {
      "cell_type": "code",
      "metadata": {
        "id": "Ns2HqejtdDW-",
        "outputId": "47e40ac0-c804-4b9c-91df-ef41f4b81de7",
        "colab": {
          "base_uri": "https://localhost:8080/",
          "height": 700
        }
      },
      "source": [
        "model = Sequential()\n",
        "model.add(Conv2D(32, (3, 3), activation='relu', kernel_initializer='he_uniform', input_shape=(28, 28, 1)))\n",
        "model.add(MaxPooling2D((2,2)))\n",
        "model.add(Conv2D(64, (3, 3), activation='relu', kernel_initializer='he_uniform', input_shape=(28, 28, 1)))\n",
        "model.add(MaxPooling2D((2,2)))\n",
        "model.add(Flatten())\n",
        "\n",
        "#Fully connected layer\n",
        "model.add(Dense(100, activation='relu', kernel_initializer='he_uniform'))\n",
        "model.add(Dense(10, activation='softmax'))\n",
        "\n",
        "opt = SGD(lr=0.01, momentum=0.9)\n",
        "model.compile(optimizer=opt, loss='categorical_crossentropy', metrics=['accuracy'])\n",
        "model.summary()\n",
        "\n",
        "history_cnn = model.fit(feature_train, label_train, batch_size=32, validation_data=(feature_test, label_test), epochs=10)"
      ],
      "execution_count": 14,
      "outputs": [
        {
          "output_type": "stream",
          "text": [
            "Model: \"sequential_1\"\n",
            "_________________________________________________________________\n",
            "Layer (type)                 Output Shape              Param #   \n",
            "=================================================================\n",
            "conv2d (Conv2D)              (None, 26, 26, 32)        320       \n",
            "_________________________________________________________________\n",
            "max_pooling2d (MaxPooling2D) (None, 13, 13, 32)        0         \n",
            "_________________________________________________________________\n",
            "conv2d_1 (Conv2D)            (None, 11, 11, 64)        18496     \n",
            "_________________________________________________________________\n",
            "max_pooling2d_1 (MaxPooling2 (None, 5, 5, 64)          0         \n",
            "_________________________________________________________________\n",
            "flatten_1 (Flatten)          (None, 1600)              0         \n",
            "_________________________________________________________________\n",
            "dense_2 (Dense)              (None, 100)               160100    \n",
            "_________________________________________________________________\n",
            "dense_3 (Dense)              (None, 10)                1010      \n",
            "=================================================================\n",
            "Total params: 179,926\n",
            "Trainable params: 179,926\n",
            "Non-trainable params: 0\n",
            "_________________________________________________________________\n",
            "Epoch 1/10\n",
            "1875/1875 [==============================] - 5s 3ms/step - loss: 0.4606 - accuracy: 0.8311 - val_loss: 0.3747 - val_accuracy: 0.8603\n",
            "Epoch 2/10\n",
            "1875/1875 [==============================] - 5s 3ms/step - loss: 0.3089 - accuracy: 0.8857 - val_loss: 0.3040 - val_accuracy: 0.8892\n",
            "Epoch 3/10\n",
            "1875/1875 [==============================] - 5s 3ms/step - loss: 0.2670 - accuracy: 0.9005 - val_loss: 0.2940 - val_accuracy: 0.8950\n",
            "Epoch 4/10\n",
            "1875/1875 [==============================] - 5s 3ms/step - loss: 0.2406 - accuracy: 0.9102 - val_loss: 0.2831 - val_accuracy: 0.8968\n",
            "Epoch 5/10\n",
            "1875/1875 [==============================] - 5s 3ms/step - loss: 0.2197 - accuracy: 0.9181 - val_loss: 0.2841 - val_accuracy: 0.8981\n",
            "Epoch 6/10\n",
            "1875/1875 [==============================] - 5s 3ms/step - loss: 0.2004 - accuracy: 0.9257 - val_loss: 0.2775 - val_accuracy: 0.9035\n",
            "Epoch 7/10\n",
            "1875/1875 [==============================] - 5s 3ms/step - loss: 0.1835 - accuracy: 0.9311 - val_loss: 0.3340 - val_accuracy: 0.8873\n",
            "Epoch 8/10\n",
            "1875/1875 [==============================] - 5s 3ms/step - loss: 0.1699 - accuracy: 0.9364 - val_loss: 0.2783 - val_accuracy: 0.9039\n",
            "Epoch 9/10\n",
            "1875/1875 [==============================] - 5s 3ms/step - loss: 0.1566 - accuracy: 0.9413 - val_loss: 0.2795 - val_accuracy: 0.9057\n",
            "Epoch 10/10\n",
            "1875/1875 [==============================] - 5s 3ms/step - loss: 0.1427 - accuracy: 0.9469 - val_loss: 0.2933 - val_accuracy: 0.9010\n"
          ],
          "name": "stdout"
        }
      ]
    },
    {
      "cell_type": "code",
      "metadata": {
        "id": "0rEM1oLTgU5q",
        "outputId": "bb83a72b-4b2e-42b3-9f87-37674f8f4442",
        "colab": {
          "base_uri": "https://localhost:8080/",
          "height": 66
        }
      },
      "source": [
        "loss, accuracy = model.evaluate(feature_test,  label_test, verbose=2)\n",
        "\n",
        "print(\"Test accuracy:\", accuracy)\n",
        "print(\"Test loss:\", loss)"
      ],
      "execution_count": 15,
      "outputs": [
        {
          "output_type": "stream",
          "text": [
            "313/313 - 1s - loss: 0.2933 - accuracy: 0.9010\n",
            "Test accuracy: 0.9010000228881836\n",
            "Test loss: 0.2933101952075958\n"
          ],
          "name": "stdout"
        }
      ]
    },
    {
      "cell_type": "code",
      "metadata": {
        "id": "NnkZiG5egZx7",
        "outputId": "ff6a6b31-1440-4d74-aba2-e6fd0044a25b",
        "colab": {
          "base_uri": "https://localhost:8080/",
          "height": 278
        }
      },
      "source": [
        "plot_loss(history_cnn)"
      ],
      "execution_count": 16,
      "outputs": [
        {
          "output_type": "display_data",
          "data": {
            "image/png": "[encoded data removed]",
            "text/plain": [
              "<Figure size 432x288 with 1 Axes>"
            ]
          },
          "metadata": {
            "tags": [],
            "needs_background": "light"
          }
        }
      ]
    },
    {
      "cell_type": "markdown",
      "metadata": {
        "id": "rVD1zJNTknyV"
      },
      "source": [
        "Akurasi meningkat dari 88% menjadi 90% setelah menggunakan convolutional neural network"
      ]
    },
    {
      "cell_type": "markdown",
      "metadata": {
        "id": "dv88myvVhAA0"
      },
      "source": [
        "# MNIST (untuk soal no.2)"
      ]
    },
    {
      "cell_type": "code",
      "metadata": {
        "id": "bUPfi21gkDWz",
        "outputId": "085c8978-409a-41f6-8de4-7a0e268844de",
        "colab": {
          "base_uri": "https://localhost:8080/",
          "height": 346
        }
      },
      "source": [
        "from tensorflow.keras.datasets import mnist\n",
        "(feature_train1, label_train1), (feature_test1, label_test1) = mnist.load_data()\n",
        "\n",
        "print(\"Train\", feature_train1.shape, label_train1.shape)\n",
        "print(\"Test\", feature_test1.shape, label_test1.shape)\n",
        "\n",
        "plt.imshow(feature_train1[80], cmap=plt.get_cmap('gray'))"
      ],
      "execution_count": 17,
      "outputs": [
        {
          "output_type": "stream",
          "text": [
            "Downloading data from https://storage.googleapis.com/tensorflow/tf-keras-datasets/mnist.npz\n",
            "11493376/11490434 [==============================] - 0s 0us/step\n",
            "Train (60000, 28, 28) (60000,)\n",
            "Test (10000, 28, 28) (10000,)\n"
          ],
          "name": "stdout"
        },
        {
          "output_type": "execute_result",
          "data": {
            "text/plain": [
              "<matplotlib.image.AxesImage at 0x7faafe240358>"
            ]
          },
          "metadata": {
            "tags": []
          },
          "execution_count": 17
        },
        {
          "output_type": "display_data",
          "data": {
            "image/png": "[encoded data removed]",
            "text/plain": [
              "<Figure size 432x288 with 1 Axes>"
            ]
          },
          "metadata": {
            "tags": [],
            "needs_background": "light"
          }
        }
      ]
    },
    {
      "cell_type": "code",
      "metadata": {
        "id": "KZ2uhSc6mnWo"
      },
      "source": [
        "feature_train1 = feature_train1.reshape((feature_train1.shape[0], 28, 28, 1))\n",
        "feature_test1 = feature_test1.reshape((feature_test1.shape[0], 28, 28, 1))"
      ],
      "execution_count": 18,
      "outputs": []
    },
    {
      "cell_type": "code",
      "metadata": {
        "id": "SJTrR_4Um8E3",
        "outputId": "33d54e45-4b1b-4006-8a7a-201b680d2c02",
        "colab": {
          "base_uri": "https://localhost:8080/",
          "height": 33
        }
      },
      "source": [
        "print(feature_train1.shape)"
      ],
      "execution_count": 19,
      "outputs": [
        {
          "output_type": "stream",
          "text": [
            "(60000, 28, 28, 1)\n"
          ],
          "name": "stdout"
        }
      ]
    },
    {
      "cell_type": "code",
      "metadata": {
        "id": "heenFmPunEPG",
        "outputId": "09089296-bec7-4aaf-b326-450687bad89e",
        "colab": {
          "base_uri": "https://localhost:8080/",
          "height": 131
        }
      },
      "source": [
        "from tensorflow.keras.utils import to_categorical\n",
        "\n",
        "label_train1 = to_categorical(label_train1)\n",
        "label_test1 = to_categorical(label_test1)\n",
        "\n",
        "print(label_train1)"
      ],
      "execution_count": 20,
      "outputs": [
        {
          "output_type": "stream",
          "text": [
            "[[0. 0. 0. ... 0. 0. 0.]\n",
            " [1. 0. 0. ... 0. 0. 0.]\n",
            " [0. 0. 0. ... 0. 0. 0.]\n",
            " ...\n",
            " [0. 0. 0. ... 0. 0. 0.]\n",
            " [0. 0. 0. ... 0. 0. 0.]\n",
            " [0. 0. 0. ... 0. 1. 0.]]\n"
          ],
          "name": "stdout"
        }
      ]
    },
    {
      "cell_type": "code",
      "metadata": {
        "id": "DrosfudQnLpl"
      },
      "source": [
        "feature_train1 = feature_train1.astype('float32')\n",
        "feature_test1 = feature_test1.astype('float32')\n",
        "\n",
        "feature_train1 = feature_train1 / 255.0\n",
        "feature_test1 = feature_test1 / 255.0"
      ],
      "execution_count": 21,
      "outputs": []
    },
    {
      "cell_type": "markdown",
      "metadata": {
        "id": "CRCiKzitnbet"
      },
      "source": [
        "CNN"
      ]
    },
    {
      "cell_type": "code",
      "metadata": {
        "id": "pE78t_JHnU4q",
        "outputId": "512fc681-4a18-49e6-cc9d-1c0be5f287cf",
        "colab": {
          "base_uri": "https://localhost:8080/",
          "height": 700
        }
      },
      "source": [
        "model1 = Sequential()\n",
        "model1.add(Conv2D(32, (3, 3), activation='relu', kernel_initializer='he_uniform', input_shape=(28, 28, 1)))\n",
        "model1.add(MaxPooling2D((2,2)))\n",
        "model1.add(Conv2D(64, (3, 3), activation='relu', kernel_initializer='he_uniform', input_shape=(28, 28, 1)))\n",
        "model1.add(MaxPooling2D((2,2)))\n",
        "model1.add(Flatten())\n",
        "\n",
        "#Fully connected layer\n",
        "model1.add(Dense(100, activation='relu', kernel_initializer='he_uniform'))\n",
        "model1.add(Dense(10, activation='softmax'))\n",
        "\n",
        "opt = SGD(lr=0.01, momentum=0.9)\n",
        "model1.compile(optimizer=opt, loss='categorical_crossentropy', metrics=['accuracy'])\n",
        "model1.summary()\n",
        "\n",
        "history_cnn = model1.fit(feature_train1, label_train1, batch_size=32, validation_data=(feature_test1, label_test1), epochs=10)"
      ],
      "execution_count": 22,
      "outputs": [
        {
          "output_type": "stream",
          "text": [
            "Model: \"sequential_2\"\n",
            "_________________________________________________________________\n",
            "Layer (type)                 Output Shape              Param #   \n",
            "=================================================================\n",
            "conv2d_2 (Conv2D)            (None, 26, 26, 32)        320       \n",
            "_________________________________________________________________\n",
            "max_pooling2d_2 (MaxPooling2 (None, 13, 13, 32)        0         \n",
            "_________________________________________________________________\n",
            "conv2d_3 (Conv2D)            (None, 11, 11, 64)        18496     \n",
            "_________________________________________________________________\n",
            "max_pooling2d_3 (MaxPooling2 (None, 5, 5, 64)          0         \n",
            "_________________________________________________________________\n",
            "flatten_2 (Flatten)          (None, 1600)              0         \n",
            "_________________________________________________________________\n",
            "dense_4 (Dense)              (None, 100)               160100    \n",
            "_________________________________________________________________\n",
            "dense_5 (Dense)              (None, 10)                1010      \n",
            "=================================================================\n",
            "Total params: 179,926\n",
            "Trainable params: 179,926\n",
            "Non-trainable params: 0\n",
            "_________________________________________________________________\n",
            "Epoch 1/10\n",
            "1875/1875 [==============================] - 5s 3ms/step - loss: 0.1163 - accuracy: 0.9630 - val_loss: 0.0501 - val_accuracy: 0.9823\n",
            "Epoch 2/10\n",
            "1875/1875 [==============================] - 5s 3ms/step - loss: 0.0410 - accuracy: 0.9871 - val_loss: 0.0486 - val_accuracy: 0.9829\n",
            "Epoch 3/10\n",
            "1875/1875 [==============================] - 5s 3ms/step - loss: 0.0276 - accuracy: 0.9913 - val_loss: 0.0332 - val_accuracy: 0.9887\n",
            "Epoch 4/10\n",
            "1875/1875 [==============================] - 5s 3ms/step - loss: 0.0200 - accuracy: 0.9938 - val_loss: 0.0338 - val_accuracy: 0.9890\n",
            "Epoch 5/10\n",
            "1875/1875 [==============================] - 5s 3ms/step - loss: 0.0147 - accuracy: 0.9953 - val_loss: 0.0332 - val_accuracy: 0.9888\n",
            "Epoch 6/10\n",
            "1875/1875 [==============================] - 5s 3ms/step - loss: 0.0103 - accuracy: 0.9970 - val_loss: 0.0307 - val_accuracy: 0.9911\n",
            "Epoch 7/10\n",
            "1875/1875 [==============================] - 5s 3ms/step - loss: 0.0077 - accuracy: 0.9976 - val_loss: 0.0344 - val_accuracy: 0.9897\n",
            "Epoch 8/10\n",
            "1875/1875 [==============================] - 5s 3ms/step - loss: 0.0063 - accuracy: 0.9981 - val_loss: 0.0293 - val_accuracy: 0.9919\n",
            "Epoch 9/10\n",
            "1875/1875 [==============================] - 5s 3ms/step - loss: 0.0038 - accuracy: 0.9991 - val_loss: 0.0324 - val_accuracy: 0.9915\n",
            "Epoch 10/10\n",
            "1875/1875 [==============================] - 5s 3ms/step - loss: 0.0030 - accuracy: 0.9991 - val_loss: 0.0359 - val_accuracy: 0.9914\n"
          ],
          "name": "stdout"
        }
      ]
    },
    {
      "cell_type": "code",
      "metadata": {
        "id": "9BEHcbrFlh-H",
        "outputId": "24e13d96-4349-4791-d399-b509e0599102",
        "colab": {
          "base_uri": "https://localhost:8080/",
          "height": 66
        }
      },
      "source": [
        "loss, accuracy = model.evaluate(feature_test,  label_test, verbose=2)\n",
        "\n",
        "print(\"Test accuracy:\", accuracy)\n",
        "print(\"Test loss:\", loss)"
      ],
      "execution_count": 23,
      "outputs": [
        {
          "output_type": "stream",
          "text": [
            "313/313 - 1s - loss: 0.2933 - accuracy: 0.9010\n",
            "Test accuracy: 0.9010000228881836\n",
            "Test loss: 0.2933101952075958\n"
          ],
          "name": "stdout"
        }
      ]
    },
    {
      "cell_type": "markdown",
      "metadata": {
        "id": "Kq352TtpoK7D"
      },
      "source": [
        "Semakin dalam arsitektur yang digunakan dalam convolutional neural network semakin tinggi akurasi yang didapatkan. Pada data MNIST yang sebelumnya(di file .ipynb dari pak tommy) hanya digunakan Conv2D 32 filters, kernel 3x3, lalu dilakukan MaxPooling2D. Sedangkan, jika dilakukan lebih dalam lagi, ditambahkan lagi Conv2D 64 filters, lalu MaxPooling2D lagi, akurasinya naik dari 98% menjadi 99%."
      ]
    },
    {
      "cell_type": "markdown",
      "metadata": {
        "id": "Hcg_xz-74HCb"
      },
      "source": [
        "Training data diatas(fashion dan mnist) saya hanya menggunakan epoch yang kecil. mungkin dengan menggunakan nilai epoch yang lebih besar (50 atau diatas 100) akan terlihat dimana grafik loss nya yang mulai konstan."
      ]
    }
  ]
}